{
 "cells": [
  {
   "cell_type": "code",
   "execution_count": 1,
   "id": "ec945d82-4af2-4dec-b490-2144629c59b2",
   "metadata": {},
   "outputs": [],
   "source": [
    "import json\n",
    "aseg_region_dictionary = {}\n",
    "\n",
    "with open('./FreeSurferColorLUT.txt') as freesurfer_luts:\n",
    "    aseg_conversions = dict([line.split()[:2] for line in freesurfer_luts.readlines()[1:] if line.split()])\n",
    "\n",
    "all_regions = set()\n",
    "for index, region in aseg_conversions.items():\n",
    "    if 'Left-' in region or 'Right-' in region:\n",
    "        region_label = region.replace('Left-', '').replace('Right-','').lower()\n",
    "        if region_label not in aseg_region_dictionary.keys():\n",
    "            aseg_region_dictionary[region_label] = [index]\n",
    "        else:\n",
    "            aseg_region_dictionary[region_label].append(index)\n",
    "    else:\n",
    "        aseg_region_dictionary[region.lower()] = index\n",
    "\n",
    "with open('/autofs/space/nicc_003/users/xander/code/neuroviz/aseg_tools/aseg_labels.json', 'w') as aseg_labels:\n",
    "    json.dump(aseg_region_dictionary, aseg_labels, indent=4)"
   ]
  }
 ],
 "metadata": {
  "kernelspec": {
   "display_name": "Python 3",
   "language": "python",
   "name": "python3"
  },
  "language_info": {
   "codemirror_mode": {
    "name": "ipython",
    "version": 3
   },
   "file_extension": ".py",
   "mimetype": "text/x-python",
   "name": "python",
   "nbconvert_exporter": "python",
   "pygments_lexer": "ipython3",
   "version": "3.11.6"
  }
 },
 "nbformat": 4,
 "nbformat_minor": 5
}
